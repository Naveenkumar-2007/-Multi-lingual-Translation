{
 "cells": [
  {
   "cell_type": "markdown",
   "id": "ca22f57b",
   "metadata": {},
   "source": [
    "# Exploration Notebook\n",
    "\n",
    "Quick experiments with models."
   ]
  }
 ],
 "metadata": {
  "language_info": {
   "name": "python"
  }
 },
 "nbformat": 4,
 "nbformat_minor": 5
}
