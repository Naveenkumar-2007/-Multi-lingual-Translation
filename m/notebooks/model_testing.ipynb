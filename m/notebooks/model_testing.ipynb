{
 "cells": [
  {
   "cell_type": "markdown",
   "id": "6d6972a0",
   "metadata": {},
   "source": [
    "# Model Testing Notebook\n",
    "\n",
    "Tests and small experiments."
   ]
  }
 ],
 "metadata": {
  "language_info": {
   "name": "python"
  }
 },
 "nbformat": 4,
 "nbformat_minor": 5
}
